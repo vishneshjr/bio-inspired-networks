{
 "cells": [
  {
   "cell_type": "markdown",
   "metadata": {},
   "source": [
    "# Loading MNIST Data"
   ]
  },
  {
   "cell_type": "code",
   "execution_count": 98,
   "metadata": {},
   "outputs": [],
   "source": [
    "import pickle\n",
    "import gzip\n",
    "import numpy as np"
   ]
  },
  {
   "cell_type": "code",
   "execution_count": 99,
   "metadata": {},
   "outputs": [],
   "source": [
    "def load_data():\n",
    "    \"\"\" Loads the MNIST data and returns it as a tuple of the form\n",
    "    (training_data, validation_data, testing_data)\n",
    "    \"\"\"\n",
    "    f = gzip.open('../data/mnist.pkl.gz', 'rb')\n",
    "    train, val, test = pickle.load(f, encoding=\"latin1\")\n",
    "    f.close()\n",
    "    return (train, val, test)\n",
    "\n",
    "\n",
    "def load_data_wrapper():\n",
    "    train, val, test = load_data()\n",
    "    train_input = [np.reshape(x, (len(x), 1)) for x in train[0]] # Reshape input (n, ) to (n, 1)\n",
    "    train_result = [one_hot_encode(y) for y in train[1]]\n",
    "    train_data = list(zip(train_input, train_result))\n",
    "    val_input = [np.reshape(x, (len(x), 1)) for x in val[0]] # Reshape input (n, ) to (n, 1)\n",
    "    val_result = [one_hot_encode(y) for y in val[1]]\n",
    "    val_data = list(zip(val_input, val_result))\n",
    "    test_input = [np.reshape(x, (len(x), 1)) for x in test[0]] # Reshape input (n, ) to (n, 1)\n",
    "    test_result = [one_hot_encode(y) for y in test[1]]\n",
    "    test_data = list(zip(test_input, test_result))\n",
    "\n",
    "    return (train_data, val_data, test_data)\n",
    "\n",
    "\n",
    "def one_hot_encode(n): \n",
    "    \"\"\"Converts a decimal digit into a one-hot encoded vector and returns the vector.\n",
    "    \n",
    "    This is the output that we are trying to match for each digit during prediction.\n",
    "    \"\"\"\n",
    "    v = np.zeros((10, 1))\n",
    "    v[n] = 1.0\n",
    "    return v\n",
    "\n"
   ]
  },
  {
   "cell_type": "markdown",
   "metadata": {},
   "source": [
    "# Regular Network Implementation\n"
   ]
  },
  {
   "cell_type": "code",
   "execution_count": 100,
   "metadata": {},
   "outputs": [],
   "source": [
    "import random"
   ]
  },
  {
   "cell_type": "code",
   "execution_count": 101,
   "metadata": {},
   "outputs": [],
   "source": [
    "class Network():\n",
    "    def __init__(self, sizes, activation = \"Sigmoid\"):\n",
    "        self.sizes = sizes\n",
    "        self.num_layers = len(sizes)\n",
    "        self.biases = [np.random.randn(y, 1) for y in sizes[1:]]\n",
    "        self.weights = [np.random.randn(x, y) for x, y in zip(sizes[1:], sizes[:-1])] # Second layer parameter x comes before first layer parameter y to enable matrix multiplication\n",
    "        self.activation_type = activation\n",
    "\n",
    "    def forward(self, x):\n",
    "        for i in range(self.num_layers - 1):\n",
    "            b = self.biases[i]\n",
    "            w = self.weights[i]\n",
    "            x = self.activation(w @ x + b)\n",
    "        return x\n",
    "    \n",
    "    # Use Leaky RELU by default\n",
    "    def activation(self, x):\n",
    "        if (self.activation_type == \"Leaky RELU\"):\n",
    "            return np.where(x > 0, x, x * 0.03)\n",
    "        elif (self.activation_type == \"Sigmoid\"):\n",
    "            return self.sigmoid(x)\n",
    "        \n",
    "        raise Exception(\"Activation Function Type Does Not Exist\")\n",
    "\n",
    "    def sigmoid(self, z):\n",
    "        return 1.0/(1.0+np.exp(-z))\n",
    "    \n",
    "    def activation_derivative(self, x):\n",
    "        if (self.activation_type == \"Sigmoid\"):\n",
    "            return self.sigmoid(x)*(1-self.sigmoid(x))\n",
    "\n",
    "\n",
    "        raise Exception(\"Activation Function Type Does Not Exist\")\n",
    "\n",
    "    def SGD(self, train_data, epochs, batch_size, alpha, test_data = None):\n",
    "        n = len(train_data)\n",
    "\n",
    "        for i in range(epochs):\n",
    "            random.shuffle(train_data)\n",
    "            batches = [train_data[k: k + batch_size] for k in range(0, n, batch_size)]\n",
    "            \n",
    "            for batch in batches:\n",
    "                self.update(batch, alpha)\n",
    "            \n",
    "            if (test_data):\n",
    "                print(\"Epoch\", i + 1, \"Accuracy: \", self.evaluate(test_data))\n",
    "            else:\n",
    "                print(\"Epoch \", i + 1, \"Complete\")\n",
    "        \n",
    "    def evaluate(self, data):\n",
    "        preds = [1 if (np.argmax(self.forward(x)) == np.argmax(y)) else 0 for x,y in data]\n",
    "        return np.mean(preds)\n",
    "\n",
    "    def update(self, batch, alpha):\n",
    "        delta_b = [np.zeros(b.shape) for b in self.biases]\n",
    "        delta_w = [np.zeros(w.shape) for w in self.weights]\n",
    "\n",
    "        for x,y in batch:\n",
    "            del_b, del_w = self.backprop(x, y)\n",
    "            delta_b = [change_b + new_change_b for change_b, new_change_b in zip(delta_b, del_b)]\n",
    "            delta_w = [change_w + new_change_w for change_w, new_change_w in zip(delta_w, del_w)]\n",
    "        \n",
    "        self.weights = [w - alpha*(delw)/len(batch) for w, delw in zip(self.weights, delta_w)]\n",
    "        self.biases = [b - alpha*(delb)/len(batch) for b, delb in zip(self.biases, delta_b)]\n",
    "        \n",
    "    def backprop(self, x, y):\n",
    "        \"\"\"Return a tuple ``(nabla_b, nabla_w)`` representing the\n",
    "        gradient for the cost function C_x.  ``nabla_b`` and\n",
    "        ``nabla_w`` are layer-by-layer lists of numpy arrays, similar\n",
    "        to ``self.biases`` and ``self.weights``.\"\"\"\n",
    "        nabla_b = [np.zeros(b.shape) for b in self.biases]\n",
    "        nabla_w = [np.zeros(w.shape) for w in self.weights]\n",
    "        # feedforward\n",
    "        activation = x\n",
    "        activations = [x] # list to store all the activations, layer by layer\n",
    "        zs = [] # list to store all the z vectors, layer by layer\n",
    "        for b, w in zip(self.biases, self.weights):\n",
    "            z = np.dot(w, activation) + b\n",
    "            zs.append(z)\n",
    "            activation = self.sigmoid(z)\n",
    "            activations.append(activation)\n",
    "        # backward pass\n",
    "        delta = self.cost_derivative(activations[-1], y) * \\\n",
    "            self.activation_derivative(zs[-1])\n",
    "        nabla_b[-1] = delta\n",
    "        nabla_w[-1] = np.dot(delta, activations[-2].transpose())\n",
    "        # Note that the variable l in the loop below is used a little\n",
    "        # differently to the notation in Chapter 2 of the book.  Here,\n",
    "        # l = 1 means the last layer of neurons, l = 2 is the\n",
    "        # second-last layer, and so on.  It's a renumbering of the\n",
    "        # scheme in the book, used here to take advantage of the fact\n",
    "        # that Python can use negative indices in lists.\n",
    "        for l in range(2, self.num_layers):\n",
    "            z = zs[-l]\n",
    "            sp = self.activation_derivative(z)\n",
    "            delta = np.dot(self.weights[-l+1].transpose(), delta) * sp\n",
    "            nabla_b[-l] = delta\n",
    "            nabla_w[-l] = np.dot(delta, activations[-l-1].transpose())\n",
    "        return (nabla_b, nabla_w)\n",
    "\n",
    "    def cost_derivative(self, output_activations, y):\n",
    "        \"\"\"Return the vector of partial derivatives \\partial C_x /\n",
    "        \\partial a for the output activations.\"\"\"\n",
    "        return (output_activations-y)\n"
   ]
  },
  {
   "cell_type": "code",
   "execution_count": 198,
   "metadata": {},
   "outputs": [],
   "source": [
    "a, b, c = load_data_wrapper()"
   ]
  },
  {
   "cell_type": "markdown",
   "metadata": {},
   "source": []
  },
  {
   "cell_type": "markdown",
   "metadata": {},
   "source": [
    "# Testing"
   ]
  },
  {
   "cell_type": "markdown",
   "metadata": {},
   "source": []
  },
  {
   "cell_type": "markdown",
   "metadata": {},
   "source": []
  },
  {
   "cell_type": "code",
   "execution_count": 1,
   "metadata": {},
   "outputs": [],
   "source": [
    "import data_loader\n",
    "from simple_network import Network"
   ]
  },
  {
   "cell_type": "code",
   "execution_count": 5,
   "metadata": {},
   "outputs": [
    {
     "name": "stdout",
     "output_type": "stream",
     "text": [
      "In this file\n",
      "/Users/vishnesh/Master/01 - College/06 - Spring '24/PSYC 4803 - Physics of Cognition/Project/bio-inspired-networks/src\n"
     ]
    }
   ],
   "source": [
    "train, val, test = data_loader.load_data_wrapper()"
   ]
  },
  {
   "cell_type": "code",
   "execution_count": 19,
   "metadata": {},
   "outputs": [
    {
     "name": "stdout",
     "output_type": "stream",
     "text": [
      "(784, 1)\n"
     ]
    }
   ],
   "source": [
    "print(train[0][0].shape)"
   ]
  },
  {
   "cell_type": "code",
   "execution_count": 21,
   "metadata": {},
   "outputs": [
    {
     "name": "stdout",
     "output_type": "stream",
     "text": [
      "In this file\n",
      "/Users/vishnesh/Master/01 - College/06 - Spring '24/PSYC 4803 - Physics of Cognition/Project/bio-inspired-networks/src\n"
     ]
    },
    {
     "ename": "KeyboardInterrupt",
     "evalue": "",
     "output_type": "error",
     "traceback": [
      "\u001b[0;31m---------------------------------------------------------------------------\u001b[0m",
      "\u001b[0;31mKeyboardInterrupt\u001b[0m                         Traceback (most recent call last)",
      "Cell \u001b[0;32mIn [21], line 7\u001b[0m\n\u001b[1;32m      4\u001b[0m train, val, test \u001b[38;5;241m=\u001b[39m data_loader\u001b[38;5;241m.\u001b[39mload_data_wrapper()\n\u001b[1;32m      6\u001b[0m net \u001b[38;5;241m=\u001b[39m Network([\u001b[38;5;241m784\u001b[39m, \u001b[38;5;241m30\u001b[39m, \u001b[38;5;241m10\u001b[39m])\n\u001b[0;32m----> 7\u001b[0m \u001b[43mnet\u001b[49m\u001b[38;5;241;43m.\u001b[39;49m\u001b[43mSGD\u001b[49m\u001b[43m(\u001b[49m\u001b[43mtrain\u001b[49m\u001b[43m,\u001b[49m\u001b[43m \u001b[49m\u001b[38;5;241;43m15\u001b[39;49m\u001b[43m,\u001b[49m\u001b[43m \u001b[49m\u001b[38;5;241;43m10\u001b[39;49m\u001b[43m,\u001b[49m\u001b[43m \u001b[49m\u001b[38;5;241;43m3.0\u001b[39;49m\u001b[43m,\u001b[49m\u001b[43m \u001b[49m\u001b[43mtest_data\u001b[49m\u001b[43m \u001b[49m\u001b[38;5;241;43m=\u001b[39;49m\u001b[43m \u001b[49m\u001b[43mtest\u001b[49m\u001b[43m)\u001b[49m\n",
      "File \u001b[0;32m~/Master/01 - College/06 - Spring '24/PSYC 4803 - Physics of Cognition/Project/bio-inspired-networks/src/simple_network.py:47\u001b[0m, in \u001b[0;36mNetwork.SGD\u001b[0;34m(self, train_data, epochs, batch_size, alpha, test_data)\u001b[0m\n\u001b[1;32m     44\u001b[0m batches \u001b[38;5;241m=\u001b[39m [train_data[k: k \u001b[38;5;241m+\u001b[39m batch_size] \u001b[38;5;28;01mfor\u001b[39;00m k \u001b[38;5;129;01min\u001b[39;00m \u001b[38;5;28mrange\u001b[39m(\u001b[38;5;241m0\u001b[39m, n, batch_size)]\n\u001b[1;32m     46\u001b[0m \u001b[38;5;28;01mfor\u001b[39;00m batch \u001b[38;5;129;01min\u001b[39;00m batches:\n\u001b[0;32m---> 47\u001b[0m     \u001b[38;5;28;43mself\u001b[39;49m\u001b[38;5;241;43m.\u001b[39;49m\u001b[43mupdate\u001b[49m\u001b[43m(\u001b[49m\u001b[43mbatch\u001b[49m\u001b[43m,\u001b[49m\u001b[43m \u001b[49m\u001b[43malpha\u001b[49m\u001b[43m)\u001b[49m\n\u001b[1;32m     49\u001b[0m \u001b[38;5;28;01mif\u001b[39;00m (test_data):\n\u001b[1;32m     50\u001b[0m     \u001b[38;5;28mprint\u001b[39m(\u001b[38;5;124m\"\u001b[39m\u001b[38;5;124mEpoch\u001b[39m\u001b[38;5;124m\"\u001b[39m, i \u001b[38;5;241m+\u001b[39m \u001b[38;5;241m1\u001b[39m, \u001b[38;5;124m\"\u001b[39m\u001b[38;5;124mAccuracy: \u001b[39m\u001b[38;5;124m\"\u001b[39m, \u001b[38;5;28mself\u001b[39m\u001b[38;5;241m.\u001b[39mevaluate(test_data))\n",
      "File \u001b[0;32m~/Master/01 - College/06 - Spring '24/PSYC 4803 - Physics of Cognition/Project/bio-inspired-networks/src/simple_network.py:60\u001b[0m, in \u001b[0;36mupdate\u001b[0;34m(self, batch, alpha)\u001b[0m\n\u001b[1;32m     58\u001b[0m \u001b[38;5;28;01mdef\u001b[39;00m \u001b[38;5;21mevaluate\u001b[39m(\u001b[38;5;28mself\u001b[39m, data):\n\u001b[1;32m     59\u001b[0m     preds \u001b[38;5;241m=\u001b[39m [\u001b[38;5;241m1\u001b[39m \u001b[38;5;28;01mif\u001b[39;00m (np\u001b[38;5;241m.\u001b[39margmax(\u001b[38;5;28mself\u001b[39m\u001b[38;5;241m.\u001b[39mforward(x)) \u001b[38;5;241m==\u001b[39m np\u001b[38;5;241m.\u001b[39margmax(y)) \u001b[38;5;28;01melse\u001b[39;00m \u001b[38;5;241m0\u001b[39m \u001b[38;5;28;01mfor\u001b[39;00m x,y \u001b[38;5;129;01min\u001b[39;00m data]\n\u001b[0;32m---> 60\u001b[0m     \u001b[38;5;28;01mreturn\u001b[39;00m np\u001b[38;5;241m.\u001b[39mmean(preds)\n",
      "File \u001b[0;32m~/Master/01 - College/06 - Spring '24/PSYC 4803 - Physics of Cognition/Project/bio-inspired-networks/src/simple_network.py:60\u001b[0m, in \u001b[0;36m<listcomp>\u001b[0;34m(.0)\u001b[0m\n\u001b[1;32m     58\u001b[0m \u001b[38;5;28;01mdef\u001b[39;00m \u001b[38;5;21mevaluate\u001b[39m(\u001b[38;5;28mself\u001b[39m, data):\n\u001b[1;32m     59\u001b[0m     preds \u001b[38;5;241m=\u001b[39m [\u001b[38;5;241m1\u001b[39m \u001b[38;5;28;01mif\u001b[39;00m (np\u001b[38;5;241m.\u001b[39margmax(\u001b[38;5;28mself\u001b[39m\u001b[38;5;241m.\u001b[39mforward(x)) \u001b[38;5;241m==\u001b[39m np\u001b[38;5;241m.\u001b[39margmax(y)) \u001b[38;5;28;01melse\u001b[39;00m \u001b[38;5;241m0\u001b[39m \u001b[38;5;28;01mfor\u001b[39;00m x,y \u001b[38;5;129;01min\u001b[39;00m data]\n\u001b[0;32m---> 60\u001b[0m     \u001b[38;5;28;01mreturn\u001b[39;00m np\u001b[38;5;241m.\u001b[39mmean(preds)\n",
      "\u001b[0;31mKeyboardInterrupt\u001b[0m: "
     ]
    }
   ],
   "source": [
    "#import data_loader\n",
    "train, val, test = data_loader.load_data_wrapper()\n",
    "\n",
    "net = Network([784, 30, 10])\n",
    "net.SGD(train, 15, 10, 3.0, test_data = test)\n"
   ]
  },
  {
   "cell_type": "code",
   "execution_count": 43,
   "metadata": {},
   "outputs": [],
   "source": [
    "%matplotlib inline\n",
    "import matplotlib.pyplot as plt"
   ]
  },
  {
   "cell_type": "code",
   "execution_count": 214,
   "metadata": {},
   "outputs": [],
   "source": [
    "no += 1"
   ]
  },
  {
   "cell_type": "code",
   "execution_count": 215,
   "metadata": {},
   "outputs": [
    {
     "name": "stdout",
     "output_type": "stream",
     "text": [
      "My algorithm thinks the number is  7\n",
      "The number should be 7\n"
     ]
    },
    {
     "data": {
      "image/png": "[encoded data removed]",
      "text/plain": [
       "<Figure size 640x480 with 1 Axes>"
      ]
     },
     "metadata": {},
     "output_type": "display_data"
    }
   ],
   "source": [
    "x = test[no][0]\n",
    "ans = np.argmax(test[no][1])\n",
    "print(\"My algorithm thinks the number is \", np.argmax(net.forward(x)))\n",
    "x = np.array(x).reshape(28, 28)\n",
    "\n",
    "plt.imshow(x, cmap='gray')\n",
    "print(\"The number should be\", ans)\n",
    "\n"
   ]
  }
 ],
 "metadata": {
  "kernelspec": {
   "display_name": "Python 3",
   "language": "python",
   "name": "python3"
  },
  "language_info": {
   "codemirror_mode": {
    "name": "ipython",
    "version": 3
   },
   "file_extension": ".py",
   "mimetype": "text/x-python",
   "name": "python",
   "nbconvert_exporter": "python",
   "pygments_lexer": "ipython3",
   "version": "3.9.2"
  }
 },
 "nbformat": 4,
 "nbformat_minor": 2
}
