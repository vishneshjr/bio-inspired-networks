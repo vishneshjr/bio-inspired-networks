{
 "cells": [
  {
   "cell_type": "markdown",
   "metadata": {},
   "source": [
    "# Loading MNIST Data"
   ]
  },
  {
   "cell_type": "code",
   "execution_count": 3,
   "metadata": {},
   "outputs": [],
   "source": [
    "import pickle\n",
    "import gzip\n",
    "import numpy as np"
   ]
  },
  {
   "cell_type": "code",
   "execution_count": 10,
   "metadata": {},
   "outputs": [],
   "source": [
    "def load_data():\n",
    "    \"\"\" Loads the MNIST data and returns it as a tuple of the form\n",
    "    (training_data, validation_data, testing_data)\n",
    "    \"\"\"\n",
    "    with gzip.open(\"../data/mnist.pkl.gz\", 'rb') as f:\n",
    "        train_data, val_data, test_data = pickle.load(f)\n",
    "    return (train_data, val_data, test_data)\n",
    "\n",
    "\n",
    "def load_data_wrapper():\n",
    "    \"\"\"\n",
    "    \n",
    "    \"\"\"\n",
    "    train, val, test = load_data()\n",
    "    train_input = [np.reshape(x, (len(x), 1)) for x,y in train] # Reshape input (n, ) to (n, 1)\n",
    "    train_result = [one_hot_encode(y) for x, y in train]\n",
    "    train_data = zip(train_input, train_result)\n",
    "    val_input = [np.reshape(x, (len(x), 1)) for x,y in val] # Reshape input (n, ) to (n, 1)\n",
    "    val_result = [one_hot_encode(y) for x, y in val]\n",
    "    val_data = zip(val_input, val_result)\n",
    "    test_input = [np.reshape(x, (len(x), 1)) for x,y in test] # Reshape input (n, ) to (n, 1)\n",
    "    test_result = [one_hot_encode(y) for x, y in test]\n",
    "    test_data = zip(test_input, test_result)\n",
    "\n",
    "    return (train_data, val_data, test_data)\n",
    "\n",
    "\n",
    "def one_hot_encode(n): \n",
    "    \"\"\"Converts a decimal digit into a one-hot encoded vector and returns the vector.\n",
    "    \n",
    "    This is the output that we are trying to match for each digit during prediction.\n",
    "    \"\"\"\n",
    "    v = np.zeros((10, 1))\n",
    "    v[n] = 1.0\n",
    "    return v\n",
    "\n"
   ]
  },
  {
   "cell_type": "code",
   "execution_count": null,
   "metadata": {},
   "outputs": [],
   "source": []
  }
 ],
 "metadata": {
  "kernelspec": {
   "display_name": "Python 3",
   "language": "python",
   "name": "python3"
  },
  "language_info": {
   "codemirror_mode": {
    "name": "ipython",
    "version": 3
   },
   "file_extension": ".py",
   "mimetype": "text/x-python",
   "name": "python",
   "nbconvert_exporter": "python",
   "pygments_lexer": "ipython3",
   "version": "3.9.2"
  }
 },
 "nbformat": 4,
 "nbformat_minor": 2
}
